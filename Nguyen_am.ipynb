{
 "cells": [
  {
   "cell_type": "code",
   "execution_count": null,
   "id": "301b7ec1",
   "metadata": {},
   "outputs": [],
   "source": []
  },
  {
   "cell_type": "code",
   "execution_count": 1,
   "id": "296ab218",
   "metadata": {
    "scrolled": true
   },
   "outputs": [
    {
     "name": "stdout",
     "output_type": "stream",
     "text": [
      "Nhập một chuỗi bất kỳ: EEEEEEE\n",
      "Có nguyên âm:  True\n"
     ]
    }
   ],
   "source": [
    "text = input(\"Nhập một chuỗi bất kỳ: \")\n",
    "u = \"u\"\n",
    "e = \"e\"\n",
    "o = \"o\"\n",
    "a = \"a\"\n",
    "i = \"i\"\n",
    "U = \"U\"\n",
    "E = \"E\"\n",
    "O = \"O\"\n",
    "A = \"A\"\n",
    "I = \"I\"\n",
    "print(\"Có nguyên âm: \", u in text or e in text or o in text or a in text or i in text or U in text or E in text or O in text or A in text or I in text)"
   ]
  },
  {
   "cell_type": "code",
   "execution_count": null,
   "id": "522b8fc6",
   "metadata": {},
   "outputs": [],
   "source": []
  }
 ],
 "metadata": {
  "kernelspec": {
   "display_name": "Python 3 (ipykernel)",
   "language": "python",
   "name": "python3"
  },
  "language_info": {
   "codemirror_mode": {
    "name": "ipython",
    "version": 3
   },
   "file_extension": ".py",
   "mimetype": "text/x-python",
   "name": "python",
   "nbconvert_exporter": "python",
   "pygments_lexer": "ipython3",
   "version": "3.9.7"
  }
 },
 "nbformat": 4,
 "nbformat_minor": 5
}
