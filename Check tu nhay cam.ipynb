{
 "cells": [
  {
   "cell_type": "code",
   "execution_count": 1,
   "id": "83b9f916",
   "metadata": {
    "scrolled": false
   },
   "outputs": [
    {
     "name": "stdout",
     "output_type": "stream",
     "text": [
      "Nhập post: sex. asdadsdracist. violencsdas\n",
      "False\n"
     ]
    }
   ],
   "source": [
    "post = input('Nhập post: ')\n",
    "p = post.split('.')\n",
    "p0 = p[0].lower()\n",
    "p1 = p[1].lower()\n",
    "p2 = p[2].lower()\n",
    "s = 'sex'\n",
    "r = 'racist'\n",
    "v = 'violence'\n",
    "c = 'child abuse'\n",
    "\n",
    "bl1 = '{s}{r}{v}{c}'.format(s = s in p0, r = r in p0, v = v in p0, c = c in p0)\n",
    "bl2 = '{s}{r}{v}{c}'.format(s = s in p1, r = r in p1, v = v in p1, c = c in p1)\n",
    "bl3 = '{s}{r}{v}{c}'.format(s = s in p2, r = r in p2, v = v in p2, c = c in p2)\n",
    "\n",
    "print(bl1.count('True') >= 1 and bl2.count('True') >= 1 and bl3.count('True') >= 1)"
   ]
  },
  {
   "cell_type": "code",
   "execution_count": null,
   "id": "1664b6c2",
   "metadata": {},
   "outputs": [],
   "source": []
  }
 ],
 "metadata": {
  "kernelspec": {
   "display_name": "Python 3 (ipykernel)",
   "language": "python",
   "name": "python3"
  },
  "language_info": {
   "codemirror_mode": {
    "name": "ipython",
    "version": 3
   },
   "file_extension": ".py",
   "mimetype": "text/x-python",
   "name": "python",
   "nbconvert_exporter": "python",
   "pygments_lexer": "ipython3",
   "version": "3.9.7"
  }
 },
 "nbformat": 4,
 "nbformat_minor": 5
}
