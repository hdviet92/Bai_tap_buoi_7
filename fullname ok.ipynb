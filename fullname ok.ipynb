{
 "cells": [
  {
   "cell_type": "code",
   "execution_count": 1,
   "id": "eb823367",
   "metadata": {},
   "outputs": [
    {
     "name": "stdout",
     "output_type": "stream",
     "text": [
      "Nhập Họ và tên:          huỳnh lÊ NHư Ý\n",
      "Huỳnh Lê Như Ý\n"
     ]
    }
   ],
   "source": [
    "fullten = input('Nhập Họ và tên: ')\n",
    "fullten = fullten.strip()\n",
    "word = fullten.split(' ')\n",
    "ho = word [0][0].upper() + word [0][1:].lower()\n",
    "lot1 = word [1][0].upper() + word [1][1:].lower()\n",
    "lot2 = word [2][0].upper() + word [2][1:].lower()\n",
    "ten = word [3][0].upper() + word [3][1:].lower()\n",
    "print (ho, lot1, lot2, ten)"
   ]
  },
  {
   "cell_type": "code",
   "execution_count": null,
   "id": "fb5a7e37",
   "metadata": {},
   "outputs": [],
   "source": []
  }
 ],
 "metadata": {
  "kernelspec": {
   "display_name": "Python 3 (ipykernel)",
   "language": "python",
   "name": "python3"
  },
  "language_info": {
   "codemirror_mode": {
    "name": "ipython",
    "version": 3
   },
   "file_extension": ".py",
   "mimetype": "text/x-python",
   "name": "python",
   "nbconvert_exporter": "python",
   "pygments_lexer": "ipython3",
   "version": "3.9.7"
  }
 },
 "nbformat": 4,
 "nbformat_minor": 5
}
